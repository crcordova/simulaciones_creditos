{
 "cells": [
  {
   "cell_type": "code",
   "execution_count": 1,
   "source": [
    "import requests\n",
    "import pandas as pd\n",
    "import numpy as np\n",
    "import plotly.express as px\n",
    "import random"
   ],
   "outputs": [],
   "metadata": {}
  },
  {
   "cell_type": "code",
   "execution_count": 59,
   "source": [
    "def last_price(market_id):\n",
    "\n",
    "    url = f'https://www.buda.com/api/v2/markets/{market_id}/ticker'\n",
    "    response = requests.get(url)\n",
    "    ticker_info = response.json()\n",
    "    return float(ticker_info['ticker']['last_price'][0])\n",
    "\n",
    "def precio_ponderado_order(df, x):\n",
    "    '''funcion calcula el precio ponderado si quiero ejecutar x cantidad\n",
    "    df: dataframe con ordenes\n",
    "    x: cantidad de cripto'''\n",
    "    \n",
    "    _df = df[df['Acum_vol']<= x].append(df[df['Acum_vol']>= x].head(1))\n",
    "    _df.iloc[-1, _df.columns.get_loc('Acum_vol')] = x\n",
    "    _df.iloc[-1, _df.columns.get_loc('volume')] = x - _df.iloc[-2]['Acum_vol']\n",
    "\n",
    "    return ((_df['price'] * _df['volume']).sum()) / (_df['volume'].sum())\n",
    "\n",
    "class Market():\n",
    "\n",
    "    def __init__(self, market_id):\n",
    "        self.id = market_id\n",
    "        self.price = last_price(self.id)\n",
    "        self.orders = False\n",
    "        \n",
    "    def __str__(self):\n",
    "        return ('mercado %s Last Price: %s' %(self.id, self.price) )\n",
    "\n",
    "    def last_price(self):\n",
    "        self.price = last_price(self.id)\n",
    "        return self.price\n",
    "    \n",
    "    def order_book(self, tipo=None):\n",
    "        '''\n",
    "        funcion obtiene libro de ordenes\n",
    "        tipo: [asks, bids]. None entregara ambos libros\n",
    "        '''\n",
    "        market_id = self.id\n",
    "        self.orders = pd.DataFrame()\n",
    "        url = f'https://www.buda.com/api/v2/markets/{market_id}/order_book'\n",
    "        response = requests.get(url)\n",
    "        order_book = response.json()['order_book']\n",
    "        columnas = ['price', 'volume']\n",
    "        df_a = pd.DataFrame(order_book['asks'], columns=columnas).astype(float)\n",
    "        df_a['tip'] = 'asks'\n",
    "        df_a.set_index('tip', inplace=True)\n",
    "        df_b = pd.DataFrame(order_book['bids'], columns=columnas).astype(float)\n",
    "        df_b['tip'] = 'bids'\n",
    "        df_b.set_index('tip', inplace=True)\n",
    "        \n",
    "        self.orders = pd.concat([df_a, df_b])\n",
    "\n",
    "        if tipo == 'asks':\n",
    "            return df_a\n",
    "        elif tipo == 'bids':\n",
    "            return df_b\n",
    "        else:\n",
    "            return self.orders\n",
    "\n",
    "    def market_liquidity(self):\n",
    "        \n",
    "        self.order_book()\n",
    "        \n",
    "        # Suma Volumnes tottales agrupa en bid y en ask\n",
    "        liqdty_idx = pd.pivot_table(self.orders, index=self.orders.index, values='volume', aggfunc=np.sum)\n",
    "        # liqdty_idx['Precio_Ponderado'] = self.orders.groupby(self.orders.index).apply(lambda x: np.average(x['price'], weights=x['volume']))\n",
    "        # Separo libros por tipo y ordeno por precio\n",
    "        df_ask = self.orders.loc['asks'].sort_values('price')\n",
    "        df_bid = self.orders.loc['bids'].sort_values('price', ascending=False)\n",
    "\n",
    "        # creo columna de suma acumulada\n",
    "        df_ask['Acum_vol'] = df_ask['volume'].cumsum()\n",
    "        df_bid['Acum_vol'] = df_bid['volume'].cumsum()\n",
    "        \n",
    "        for x in np.linspace(0.1,1,10):\n",
    "            # Creo rangos 10%, 20%... 100% del volumnes total\n",
    "            x_ask = liqdty_idx['volume']['asks'] * x\n",
    "            x_bid = liqdty_idx['volume']['bids'] * x\n",
    "            # cAculo precio ponderado y guardo en liqdty_idx\n",
    "            liqdty_idx['wght_price'+str(int(x*100)) +'%'] = [precio_ponderado_order(df_ask, x_ask), precio_ponderado_order(df_bid, x_bid)]\n",
    "\n",
    "        return liqdty_idx\n",
    "\n",
    "    def market_cap(self):\n",
    "\n",
    "        self.order_book()\n",
    "\n",
    "        # Volumne total * last price\n",
    "        cap_a = self.orders.loc['asks']['volume'].sum() * self.last_price()\n",
    "        cap_b = self.orders.loc['bids']['volume'].sum() * self.last_price()\n",
    "        return ({'asks':cap_a, 'bids': cap_b})\n",
    "\n",
    "\n",
    "    def cantidad_mercado_impacto(self, q, tipo = 'buy'):\n",
    "        '''funcion \n",
    "        devuelve la cantidad q hay q vender/comprar para que el precio cambie en q%\n",
    "        '''\n",
    "        self.order_book()\n",
    "        \n",
    "        if tipo == 'buy':\n",
    "            df = self.orders.loc['asks']\n",
    "            df['Cumulative'] = df['volume'].cumsum()\n",
    "            price_limit = self.price * (1 + q)\n",
    "            df = df[df['price']>=price_limit]\n",
    "        else:\n",
    "            df = self.orders.loc['bids']\n",
    "            df['Cumulative'] = df['volume'].cumsum()\n",
    "            price_limit = self.price * (1 - q)\n",
    "            df = df[df['price']<=price_limit]\n",
    "\n",
    "        return df['Cumulative'].values[0]\n",
    "\n",
    "    def market_depth(self, tipo='asks'):\n",
    "        df_a = self.orders.loc[tipo]\n",
    "        df_a['Cumulative'] = df_a['volume'].cumsum()\n",
    "        df_a['change'] = df_a['price'] / self.price -1\n",
    "\n",
    "        # df_b = self.orders.loc['bids']\n",
    "        # df_b['Cumulative'] = df_b['volume'].cumsum()\n",
    "        # df_b['change'] = df_b['price'] / self.price -1\n",
    "\n",
    "        data = {}\n",
    "        for i in np.linspace(0.05,1,20):\n",
    "            if tipo == 'asks':\n",
    "                mount = df_a[df_a['change']>=i]['Cumulative'].values[0]\n",
    "            elif tipo =='bids':\n",
    "                mount = df_a[df_a['change']<=-i]['Cumulative'].min()\n",
    "            # data.append({tipo:{i:mount}})\n",
    "            data[i]= [mount]\n",
    "            # data.append({'bid':{i:mount_b}})\n",
    "\n",
    "        return data\n",
    "\n",
    "    def precio_fin_order(self, p, tipo='asks'):\n",
    "        '''\n",
    "        devuelve el precio final que quedara el mercado despues de ejecutar p unidades\n",
    "        '''\n",
    "        df = self.orders.loc[tipo]\n",
    "        df['Cumulative'] = df['volume'].cumsum()\n",
    "        \n",
    "        df = df[df['Cumulative']>=p]\n",
    "        price = df['price'].values[0]\n",
    "        return {'price:': price, 'Change:': price /self.price -1}\n",
    "        \n",
    "class cartera():\n",
    "\n",
    "    def __init__(self) -> None:\n",
    "        \n",
    "        self.creditos = pd.DataFrame(columns=['Prestamo', 'Colateral'])\n",
    "\n",
    "    def add_credito(self, _prestamo, _colateral):\n",
    "\n",
    "        self.creditos = self.creditos.append(pd.DataFrame([[_prestamo, _colateral]], columns=['Prestamo', 'Colateral']), ignore_index=True)\n",
    "\n",
    "    def ltv(self, price):\n",
    "        self.creditos['LTV'] = self.creditos['Prestamo'] / (self.creditos['Colateral'] * price)\n",
    "\n",
    "    def crea_cartera(self, n, precio_med, std=0.1 ):\n",
    "        df = pd.concat([pd.DataFrame(np.random.randint(1, 8, size=n) * 1000000, columns=['Prestamo']), pd.DataFrame(np.random.normal(loc=1, scale=std, size=n) * precio_med, columns=['Precio_I'])], axis=1)\n",
    "        df['Colateral'] = df['Prestamo']/(df['Precio_I'] * 0.5)\n",
    "        df.drop(columns=['Precio_I'], inplace=True)\n",
    "        self.creditos = df\n",
    "\n",
    "    def simulacion_crash(self, p, price):\n",
    "        precio_crash = price * (1 - p) # price debe ser input\n",
    "        df_sim = self.creditos\n",
    "        # calculo nuevo ltv con caide del p%\n",
    "        df_sim['LTV_fin'] = df_sim['Prestamo']/(df_sim['Colateral'] * price * (1 - p))\n",
    "        df_sim = df_sim[df_sim['LTV_fin']>= .8]\n",
    "\n",
    "        # principal_tarjet: \n",
    "        # amount: lo que tengo q liquidar\n",
    "        df_sim['principal_target'] = (0.65 * df_sim['Colateral'] * precio_crash)\n",
    "        df_sim['amount'] = (df_sim['Prestamo'] - df_sim['principal_target']) / (1-0.65)\n",
    "        # df_sim['amount'] = df_sim[['Prestamo', 'amount']].apply(lambda x: x['Prestamo'] if x['Prestamo']<x['amount'] else x['amount'], axis=1)\n",
    "\n",
    "        # como quedan los creditos despues de la liquidación\n",
    "        # df_sim['principal_target'].sum()\n",
    "        df_sim['Prestamo_after_liq'] = (df_sim['Prestamo'] - df_sim['amount'])\n",
    "        df_sim['LTV_after_liq'] = (df_sim['Prestamo'] - df_sim['amount']) / (df_sim['Colateral'] * precio_crash -df_sim['amount'])\n",
    "        self.cart_crash = df_sim\n",
    "        self.cartera_to_liquidate = round(df_sim['amount'].sum())\n",
    "        "
   ],
   "outputs": [],
   "metadata": {}
  },
  {
   "cell_type": "code",
   "execution_count": 3,
   "source": [
    "btc = Market('btc-clp')\n",
    "df_order = btc.order_book().loc['bids']"
   ],
   "outputs": [],
   "metadata": {}
  },
  {
   "cell_type": "code",
   "execution_count": 4,
   "source": [
    "# definido una flag del 8% solo me puedo quedar con las ordenes hasta ese limite\n",
    "flag = 0.08\n",
    "df_order = df_order[df_order['price']>=btc.last_price() * (1-flag)]\n",
    "df_order['Acumulado'] = df_order['volume'].cumsum()\n",
    "df_order['total'] = df_order['price'] * df_order['volume']"
   ],
   "outputs": [],
   "metadata": {}
  },
  {
   "cell_type": "code",
   "execution_count": 5,
   "source": [
    "max_liq_clp = round(df_order['total'].sum())\n",
    "max_liq_btc = df_order['volume'].sum()\n",
    "print('Maximo BTC a liquidar: '+ str(max_liq_btc)) # total que se puede liquidar en btc\n",
    "print('Maximo CLP a liquidar: '+ str(max_liq_clp)) # maximo a liquidar en clp"
   ],
   "outputs": [
    {
     "output_type": "stream",
     "name": "stdout",
     "text": [
      "Maximo BTC a liquidar: 7.519171620000001\n",
      "Maximo CLP a liquidar: 345432667\n"
     ]
    }
   ],
   "metadata": {}
  },
  {
   "cell_type": "code",
   "execution_count": null,
   "source": [
    "# cart = cartera()\n",
    "# ltv_i = 0.5\n",
    "# n = 250 # cantidad de créditos\n",
    "# a_min = 1 # Prestamo minimo en millones\n",
    "# a_max = 10 # Prestamo maximo en millones\n",
    "# p_min = 40000000 # Precio minimo al q se obtiene un credito\n",
    "# p_max = 60000000 # Precio maximo al que se pudo tomar un crédito\n",
    "\n",
    "# for i in range(0, n):\n",
    "#     prestamo = random.randint(a_min, a_max) * 1000000 # monto prestado entre 1 y 10 M\n",
    "#     price = random.randrange(p_min, p_max, 100000) #precio aleatorio cuando se solicita un credito\n",
    "#     colt = prestamo / (price * ltv_i) # colateral calculado en base al prestamo solicitado y el precio\n",
    "#     cart.add_credito(prestamo, colt)\n"
   ],
   "outputs": [],
   "metadata": {}
  },
  {
   "cell_type": "code",
   "execution_count": null,
   "source": [
    "# cart.ltv(btc.last_price())\n",
    "# total_prestado = cart.creditos['Prestamo'].sum()\n",
    "# cart.creditos"
   ],
   "outputs": [],
   "metadata": {}
  },
  {
   "cell_type": "code",
   "execution_count": null,
   "source": [
    "# simular ltv con una caida del p%\n",
    "# p = 0.3\n",
    "# precio_crash = btc.last_price() * (1 - p)\n",
    "# df_sim = cart.creditos\n",
    "# # calculo nuevo ltv con caide del p%\n",
    "# df_sim['LTV_fin'] = df_sim['Prestamo']/(df_sim['Colateral']* btc.last_price() * (1 - p))\n",
    "# df_sim = df_sim[df_sim['LTV_fin']>= .8]\n",
    "\n",
    "# # principal_tarjet: \n",
    "# # amount: lo que tengo q liquidar\n",
    "# df_sim['principal_target'] = (0.65 * df_sim['Colateral'] * precio_crash)\n",
    "# df_sim['amount'] = (df_sim['Prestamo'] - df_sim['principal_target']) / (1-0.65)\n",
    "\n",
    "# # como quedan los creditos despues de la liquidación\n",
    "# # df_sim['principal_target'].sum()\n",
    "# df_sim['Prestamo_after_liq'] = (df_sim['Prestamo'] - df_sim['amount'])\n",
    "# df_sim['LTV_after_liq'] = (df_sim['Prestamo'] - df_sim['amount']) / (df_sim['Colateral'] * precio_crash -df_sim['amount'])\n",
    "# df_sim"
   ],
   "outputs": [],
   "metadata": {}
  },
  {
   "cell_type": "code",
   "execution_count": 6,
   "source": [
    "# def simulacion_creditos(n, path, p, precio_inicial, precio_actual ):\n",
    "#     resultado = pd.DataFrame(columns=['Total_prestamo','Volumen_mkt','Total_liquidado'])\n",
    "#     ltv_i = 0.5\n",
    "#     # n = 500 # cantidad de créditos\n",
    "#     a_min = 1 # Prestamo minimo en millones\n",
    "#     a_max = 8 # Prestamo maximo en millones\n",
    "#     # path = 500 # cantidad de simulaciones\n",
    "#     # p =.30\n",
    "#     # precio_inicial = btc.last_price() # precio como medida central para la distribucion de precios\n",
    "#     # precio_actual = btc.last_price()\n",
    "\n",
    "#     for k in range(0,path):\n",
    "#         cart = cartera()\n",
    "#         price_data = np.random.normal(loc=1, scale=0.15, size=n) # ditribucion normal para calcular precio inicial de cada prestamo\n",
    "#         for i in range(0, n):\n",
    "#             prestamo = random.randint(a_min, a_max) * 1000000 # monto prestado entre 1 y 8 M\n",
    "#             # price_i = random.randrange(p_min, p_max, 100000) #precio aleatorio cuando se solicita un credito\n",
    "#             price_i = price_data[i] * precio_inicial # precio inicial del crédito, dado por el precio actual y distr normal\n",
    "#             colt = prestamo / (price_i * ltv_i) # colateral calculado en base al prestamo solicitado y el precio\n",
    "#             cart.add_credito(prestamo, colt)\n",
    "\n",
    "#         cart.ltv(precio_actual)\n",
    "#         total_prestado = cart.creditos['Prestamo'].sum() # todo lo q voy a prestar\n",
    "\n",
    "#         cart.simulacion_crash(p, precio_actual)\n",
    "\n",
    "#         resultado = resultado.append(pd.DataFrame([[total_prestado, max_liq_clp, cart.cartera_to_liquidate]], columns=['Total_prestamo','Volumen_mkt','Total_liquidado']), ignore_index=True)\n",
    "\n",
    "#     resultado['Out_liquidity'] = resultado['Total_liquidado'] > resultado['Volumen_mkt']\n",
    "\n",
    "#     return pd.DataFrame(np.array([[resultado['Total_prestamo'].mean(), resultado['Volumen_mkt'].mean(), resultado['Total_liquidado'].mean(),resultado['Out_liquidity'].sum()/path, p]]),columns=['Promedio prestado', 'Tamaño mercado', 'Colateral liquidado promedio', 'Relacion Quiebre de mercado', 'Caida'])\n"
   ],
   "outputs": [],
   "metadata": {}
  },
  {
   "cell_type": "code",
   "execution_count": null,
   "source": [
    "# print('Promedio prestado: %s' %(resultado['Total_prestamo'].mean()))\n",
    "# print('Tamaño mercado: %s' %(resultado['Volumen_mkt'].mean()))\n",
    "# print('Colateral liquidado promedio: %s' %(resultado['Total_liquidado'].mean()))\n",
    "# print('Veces Quiebre de mercado: %s' %(resultado['Out_liquidity'].sum()))"
   ],
   "outputs": [],
   "metadata": {}
  },
  {
   "cell_type": "code",
   "execution_count": 62,
   "source": [
    "def simulacion_creditos(n, path, p, precio_inicial, precio_actual ):\n",
    "    # n = 500 # cantidad de créditos\n",
    "    # path = 500 # cantidad de simulaciones\n",
    "    # p =.30\n",
    "    # precio_inicial = btc.last_price() # precio como medida central para la distribucion de precios\n",
    "    # precio_actual = btc.last_price() # precio que inicia la caida\n",
    "    resultado = pd.DataFrame(columns=['Total_prestamo','Volumen_mkt','Total_liquidado'])\n",
    "    # ltv_i = 0.5\n",
    "    for _ in range(0, path):\n",
    "        cart = cartera()\n",
    "        cart.crea_cartera(n, precio_inicial, 0.12)\n",
    "        cart.ltv(precio_actual)\n",
    "        total_prestado = cart.creditos['Prestamo'].sum() # todo lo q voy a prestar\n",
    "\n",
    "        cart.simulacion_crash(p, precio_actual)\n",
    "\n",
    "        resultado = resultado.append(pd.DataFrame([[total_prestado, max_liq_clp, cart.cartera_to_liquidate]], columns=['Total_prestamo','Volumen_mkt','Total_liquidado']), ignore_index=True)\n",
    "\n",
    "    resultado['Out_liquidity'] = resultado['Total_liquidado'] > resultado['Volumen_mkt']\n",
    "\n",
    "    return pd.DataFrame(np.array([[resultado['Total_prestamo'].mean(), resultado['Volumen_mkt'].mean(), resultado['Total_liquidado'].mean(),resultado['Out_liquidity'].sum()/path, p]]),columns=['Promedio prestado', 'Tamaño mercado', 'Colateral liquidado promedio', 'Relacion Quiebre de mercado', 'Caida'])\n"
   ],
   "outputs": [],
   "metadata": {}
  },
  {
   "cell_type": "code",
   "execution_count": 70,
   "source": [
    "simulaciones = pd.DataFrame(columns= ['Promedio prestado', 'Tamaño mercado', 'Colateral liquidado promedio', 'Relacion Quiebre de mercado', 'Caida'])\n",
    "precio_sim = 48000000\n",
    "precio_med = 49000000\n",
    "for p in range(15, 36, 1):\n",
    "    simulaciones = simulaciones.append(simulacion_creditos(700, 500, p/100, precio_med, precio_sim))"
   ],
   "outputs": [
    {
     "output_type": "stream",
     "name": "stderr",
     "text": [
      "/var/folders/y5/6qkmm8_91817rs0kg5vpd5vm0000gn/T/ipykernel_9863/2674204502.py:173: SettingWithCopyWarning: \n",
      "A value is trying to be set on a copy of a slice from a DataFrame.\n",
      "Try using .loc[row_indexer,col_indexer] = value instead\n",
      "\n",
      "See the caveats in the documentation: https://pandas.pydata.org/pandas-docs/stable/user_guide/indexing.html#returning-a-view-versus-a-copy\n",
      "  df_sim['principal_target'] = (0.65 * df_sim['Colateral'] * precio_crash)\n",
      "/var/folders/y5/6qkmm8_91817rs0kg5vpd5vm0000gn/T/ipykernel_9863/2674204502.py:174: SettingWithCopyWarning: \n",
      "A value is trying to be set on a copy of a slice from a DataFrame.\n",
      "Try using .loc[row_indexer,col_indexer] = value instead\n",
      "\n",
      "See the caveats in the documentation: https://pandas.pydata.org/pandas-docs/stable/user_guide/indexing.html#returning-a-view-versus-a-copy\n",
      "  df_sim['amount'] = (df_sim['Prestamo'] - df_sim['principal_target']) / (1-0.65)\n",
      "/var/folders/y5/6qkmm8_91817rs0kg5vpd5vm0000gn/T/ipykernel_9863/2674204502.py:179: SettingWithCopyWarning: \n",
      "A value is trying to be set on a copy of a slice from a DataFrame.\n",
      "Try using .loc[row_indexer,col_indexer] = value instead\n",
      "\n",
      "See the caveats in the documentation: https://pandas.pydata.org/pandas-docs/stable/user_guide/indexing.html#returning-a-view-versus-a-copy\n",
      "  df_sim['Prestamo_after_liq'] = (df_sim['Prestamo'] - df_sim['amount'])\n",
      "/var/folders/y5/6qkmm8_91817rs0kg5vpd5vm0000gn/T/ipykernel_9863/2674204502.py:180: SettingWithCopyWarning: \n",
      "A value is trying to be set on a copy of a slice from a DataFrame.\n",
      "Try using .loc[row_indexer,col_indexer] = value instead\n",
      "\n",
      "See the caveats in the documentation: https://pandas.pydata.org/pandas-docs/stable/user_guide/indexing.html#returning-a-view-versus-a-copy\n",
      "  df_sim['LTV_after_liq'] = (df_sim['Prestamo'] - df_sim['amount']) / (df_sim['Colateral'] * precio_crash -df_sim['amount'])\n"
     ]
    }
   ],
   "metadata": {}
  },
  {
   "cell_type": "code",
   "execution_count": 71,
   "source": [
    "simulaciones"
   ],
   "outputs": [
    {
     "output_type": "execute_result",
     "data": {
      "text/plain": [
       "   Promedio prestado  Tamaño mercado  Colateral liquidado promedio  \\\n",
       "0       2.794896e+09     345432667.0                  4.860468e+06   \n",
       "0       2.799006e+09     345432667.0                  7.434168e+06   \n",
       "0       2.802252e+09     345432667.0                  9.973607e+06   \n",
       "0       2.799832e+09     345432667.0                  1.442908e+07   \n",
       "0       2.799878e+09     345432667.0                  2.164196e+07   \n",
       "0       2.801100e+09     345432667.0                  2.986429e+07   \n",
       "0       2.800600e+09     345432667.0                  4.021435e+07   \n",
       "0       2.796930e+09     345432667.0                  5.491951e+07   \n",
       "0       2.801202e+09     345432667.0                  7.366695e+07   \n",
       "0       2.801294e+09     345432667.0                  9.788901e+07   \n",
       "0       2.799668e+09     345432667.0                  1.264462e+08   \n",
       "0       2.800418e+09     345432667.0                  1.636497e+08   \n",
       "0       2.800558e+09     345432667.0                  2.065873e+08   \n",
       "0       2.798842e+09     345432667.0                  2.584202e+08   \n",
       "0       2.802564e+09     345432667.0                  3.203149e+08   \n",
       "0       2.802900e+09     345432667.0                  3.876580e+08   \n",
       "0       2.798324e+09     345432667.0                  4.712884e+08   \n",
       "0       2.799776e+09     345432667.0                  5.605320e+08   \n",
       "0       2.799218e+09     345432667.0                  6.573315e+08   \n",
       "0       2.801168e+09     345432667.0                  7.618213e+08   \n",
       "0       2.798262e+09     345432667.0                  8.752478e+08   \n",
       "\n",
       "   Relacion Quiebre de mercado  Caida  \n",
       "0                        0.000   0.15  \n",
       "0                        0.000   0.16  \n",
       "0                        0.000   0.17  \n",
       "0                        0.000   0.18  \n",
       "0                        0.000   0.19  \n",
       "0                        0.000   0.20  \n",
       "0                        0.000   0.21  \n",
       "0                        0.000   0.22  \n",
       "0                        0.000   0.23  \n",
       "0                        0.000   0.24  \n",
       "0                        0.000   0.25  \n",
       "0                        0.000   0.26  \n",
       "0                        0.000   0.27  \n",
       "0                        0.000   0.28  \n",
       "0                        0.196   0.29  \n",
       "0                        0.900   0.30  \n",
       "0                        1.000   0.31  \n",
       "0                        1.000   0.32  \n",
       "0                        1.000   0.33  \n",
       "0                        1.000   0.34  \n",
       "0                        1.000   0.35  "
      ],
      "text/html": [
       "<div>\n",
       "<style scoped>\n",
       "    .dataframe tbody tr th:only-of-type {\n",
       "        vertical-align: middle;\n",
       "    }\n",
       "\n",
       "    .dataframe tbody tr th {\n",
       "        vertical-align: top;\n",
       "    }\n",
       "\n",
       "    .dataframe thead th {\n",
       "        text-align: right;\n",
       "    }\n",
       "</style>\n",
       "<table border=\"1\" class=\"dataframe\">\n",
       "  <thead>\n",
       "    <tr style=\"text-align: right;\">\n",
       "      <th></th>\n",
       "      <th>Promedio prestado</th>\n",
       "      <th>Tamaño mercado</th>\n",
       "      <th>Colateral liquidado promedio</th>\n",
       "      <th>Relacion Quiebre de mercado</th>\n",
       "      <th>Caida</th>\n",
       "    </tr>\n",
       "  </thead>\n",
       "  <tbody>\n",
       "    <tr>\n",
       "      <th>0</th>\n",
       "      <td>2.794896e+09</td>\n",
       "      <td>345432667.0</td>\n",
       "      <td>4.860468e+06</td>\n",
       "      <td>0.000</td>\n",
       "      <td>0.15</td>\n",
       "    </tr>\n",
       "    <tr>\n",
       "      <th>0</th>\n",
       "      <td>2.799006e+09</td>\n",
       "      <td>345432667.0</td>\n",
       "      <td>7.434168e+06</td>\n",
       "      <td>0.000</td>\n",
       "      <td>0.16</td>\n",
       "    </tr>\n",
       "    <tr>\n",
       "      <th>0</th>\n",
       "      <td>2.802252e+09</td>\n",
       "      <td>345432667.0</td>\n",
       "      <td>9.973607e+06</td>\n",
       "      <td>0.000</td>\n",
       "      <td>0.17</td>\n",
       "    </tr>\n",
       "    <tr>\n",
       "      <th>0</th>\n",
       "      <td>2.799832e+09</td>\n",
       "      <td>345432667.0</td>\n",
       "      <td>1.442908e+07</td>\n",
       "      <td>0.000</td>\n",
       "      <td>0.18</td>\n",
       "    </tr>\n",
       "    <tr>\n",
       "      <th>0</th>\n",
       "      <td>2.799878e+09</td>\n",
       "      <td>345432667.0</td>\n",
       "      <td>2.164196e+07</td>\n",
       "      <td>0.000</td>\n",
       "      <td>0.19</td>\n",
       "    </tr>\n",
       "    <tr>\n",
       "      <th>0</th>\n",
       "      <td>2.801100e+09</td>\n",
       "      <td>345432667.0</td>\n",
       "      <td>2.986429e+07</td>\n",
       "      <td>0.000</td>\n",
       "      <td>0.20</td>\n",
       "    </tr>\n",
       "    <tr>\n",
       "      <th>0</th>\n",
       "      <td>2.800600e+09</td>\n",
       "      <td>345432667.0</td>\n",
       "      <td>4.021435e+07</td>\n",
       "      <td>0.000</td>\n",
       "      <td>0.21</td>\n",
       "    </tr>\n",
       "    <tr>\n",
       "      <th>0</th>\n",
       "      <td>2.796930e+09</td>\n",
       "      <td>345432667.0</td>\n",
       "      <td>5.491951e+07</td>\n",
       "      <td>0.000</td>\n",
       "      <td>0.22</td>\n",
       "    </tr>\n",
       "    <tr>\n",
       "      <th>0</th>\n",
       "      <td>2.801202e+09</td>\n",
       "      <td>345432667.0</td>\n",
       "      <td>7.366695e+07</td>\n",
       "      <td>0.000</td>\n",
       "      <td>0.23</td>\n",
       "    </tr>\n",
       "    <tr>\n",
       "      <th>0</th>\n",
       "      <td>2.801294e+09</td>\n",
       "      <td>345432667.0</td>\n",
       "      <td>9.788901e+07</td>\n",
       "      <td>0.000</td>\n",
       "      <td>0.24</td>\n",
       "    </tr>\n",
       "    <tr>\n",
       "      <th>0</th>\n",
       "      <td>2.799668e+09</td>\n",
       "      <td>345432667.0</td>\n",
       "      <td>1.264462e+08</td>\n",
       "      <td>0.000</td>\n",
       "      <td>0.25</td>\n",
       "    </tr>\n",
       "    <tr>\n",
       "      <th>0</th>\n",
       "      <td>2.800418e+09</td>\n",
       "      <td>345432667.0</td>\n",
       "      <td>1.636497e+08</td>\n",
       "      <td>0.000</td>\n",
       "      <td>0.26</td>\n",
       "    </tr>\n",
       "    <tr>\n",
       "      <th>0</th>\n",
       "      <td>2.800558e+09</td>\n",
       "      <td>345432667.0</td>\n",
       "      <td>2.065873e+08</td>\n",
       "      <td>0.000</td>\n",
       "      <td>0.27</td>\n",
       "    </tr>\n",
       "    <tr>\n",
       "      <th>0</th>\n",
       "      <td>2.798842e+09</td>\n",
       "      <td>345432667.0</td>\n",
       "      <td>2.584202e+08</td>\n",
       "      <td>0.000</td>\n",
       "      <td>0.28</td>\n",
       "    </tr>\n",
       "    <tr>\n",
       "      <th>0</th>\n",
       "      <td>2.802564e+09</td>\n",
       "      <td>345432667.0</td>\n",
       "      <td>3.203149e+08</td>\n",
       "      <td>0.196</td>\n",
       "      <td>0.29</td>\n",
       "    </tr>\n",
       "    <tr>\n",
       "      <th>0</th>\n",
       "      <td>2.802900e+09</td>\n",
       "      <td>345432667.0</td>\n",
       "      <td>3.876580e+08</td>\n",
       "      <td>0.900</td>\n",
       "      <td>0.30</td>\n",
       "    </tr>\n",
       "    <tr>\n",
       "      <th>0</th>\n",
       "      <td>2.798324e+09</td>\n",
       "      <td>345432667.0</td>\n",
       "      <td>4.712884e+08</td>\n",
       "      <td>1.000</td>\n",
       "      <td>0.31</td>\n",
       "    </tr>\n",
       "    <tr>\n",
       "      <th>0</th>\n",
       "      <td>2.799776e+09</td>\n",
       "      <td>345432667.0</td>\n",
       "      <td>5.605320e+08</td>\n",
       "      <td>1.000</td>\n",
       "      <td>0.32</td>\n",
       "    </tr>\n",
       "    <tr>\n",
       "      <th>0</th>\n",
       "      <td>2.799218e+09</td>\n",
       "      <td>345432667.0</td>\n",
       "      <td>6.573315e+08</td>\n",
       "      <td>1.000</td>\n",
       "      <td>0.33</td>\n",
       "    </tr>\n",
       "    <tr>\n",
       "      <th>0</th>\n",
       "      <td>2.801168e+09</td>\n",
       "      <td>345432667.0</td>\n",
       "      <td>7.618213e+08</td>\n",
       "      <td>1.000</td>\n",
       "      <td>0.34</td>\n",
       "    </tr>\n",
       "    <tr>\n",
       "      <th>0</th>\n",
       "      <td>2.798262e+09</td>\n",
       "      <td>345432667.0</td>\n",
       "      <td>8.752478e+08</td>\n",
       "      <td>1.000</td>\n",
       "      <td>0.35</td>\n",
       "    </tr>\n",
       "  </tbody>\n",
       "</table>\n",
       "</div>"
      ]
     },
     "metadata": {},
     "execution_count": 71
    }
   ],
   "metadata": {}
  },
  {
   "cell_type": "code",
   "execution_count": 75,
   "source": [
    "simulaciones['Relacion liquidado/prestado'] = simulaciones['Colateral liquidado promedio'] / simulaciones['Promedio prestado']\n",
    "px.line(simulaciones, y='Relacion liquidado/prestado', x ='Caida')"
   ],
   "outputs": [
    {
     "output_type": "display_data",
     "data": {
      "application/vnd.plotly.v1+json": {
       "config": {
        "plotlyServerURL": "https://plot.ly"
       },
       "data": [
        {
         "hovertemplate": "Caida=%{x}<br>Relacion liquidado/prestado=%{y}<extra></extra>",
         "legendgroup": "",
         "line": {
          "color": "#636efa",
          "dash": "solid"
         },
         "marker": {
          "symbol": "circle"
         },
         "mode": "lines",
         "name": "",
         "orientation": "v",
         "showlegend": false,
         "type": "scatter",
         "x": [
          0.15,
          0.16,
          0.17,
          0.18,
          0.19,
          0.2,
          0.21,
          0.22,
          0.23,
          0.24,
          0.25,
          0.26,
          0.27,
          0.28,
          0.29,
          0.3,
          0.31,
          0.32,
          0.33,
          0.34,
          0.35
         ],
         "xaxis": "x",
         "y": [
          0.0017390514537929138,
          0.002656002821715995,
          0.0035591400416522144,
          0.005153550762331454,
          0.007729608648662549,
          0.010661629548391704,
          0.014359189301578233,
          0.019635639194402435,
          0.026298333778142384,
          0.03494421025711689,
          0.045164719639614416,
          0.05843760771284858,
          0.07376648390642151,
          0.09233110034221295,
          0.11429350550709992,
          0.13830603407684897,
          0.16841811300835785,
          0.2002060126267244,
          0.23482683724740266,
          0.27196559070716214,
          0.31278265167378894
         ],
         "yaxis": "y"
        }
       ],
       "layout": {
        "legend": {
         "tracegroupgap": 0
        },
        "margin": {
         "t": 60
        },
        "template": {
         "data": {
          "bar": [
           {
            "error_x": {
             "color": "#2a3f5f"
            },
            "error_y": {
             "color": "#2a3f5f"
            },
            "marker": {
             "line": {
              "color": "#E5ECF6",
              "width": 0.5
             },
             "pattern": {
              "fillmode": "overlay",
              "size": 10,
              "solidity": 0.2
             }
            },
            "type": "bar"
           }
          ],
          "barpolar": [
           {
            "marker": {
             "line": {
              "color": "#E5ECF6",
              "width": 0.5
             },
             "pattern": {
              "fillmode": "overlay",
              "size": 10,
              "solidity": 0.2
             }
            },
            "type": "barpolar"
           }
          ],
          "carpet": [
           {
            "aaxis": {
             "endlinecolor": "#2a3f5f",
             "gridcolor": "white",
             "linecolor": "white",
             "minorgridcolor": "white",
             "startlinecolor": "#2a3f5f"
            },
            "baxis": {
             "endlinecolor": "#2a3f5f",
             "gridcolor": "white",
             "linecolor": "white",
             "minorgridcolor": "white",
             "startlinecolor": "#2a3f5f"
            },
            "type": "carpet"
           }
          ],
          "choropleth": [
           {
            "colorbar": {
             "outlinewidth": 0,
             "ticks": ""
            },
            "type": "choropleth"
           }
          ],
          "contour": [
           {
            "colorbar": {
             "outlinewidth": 0,
             "ticks": ""
            },
            "colorscale": [
             [
              0,
              "#0d0887"
             ],
             [
              0.1111111111111111,
              "#46039f"
             ],
             [
              0.2222222222222222,
              "#7201a8"
             ],
             [
              0.3333333333333333,
              "#9c179e"
             ],
             [
              0.4444444444444444,
              "#bd3786"
             ],
             [
              0.5555555555555556,
              "#d8576b"
             ],
             [
              0.6666666666666666,
              "#ed7953"
             ],
             [
              0.7777777777777778,
              "#fb9f3a"
             ],
             [
              0.8888888888888888,
              "#fdca26"
             ],
             [
              1,
              "#f0f921"
             ]
            ],
            "type": "contour"
           }
          ],
          "contourcarpet": [
           {
            "colorbar": {
             "outlinewidth": 0,
             "ticks": ""
            },
            "type": "contourcarpet"
           }
          ],
          "heatmap": [
           {
            "colorbar": {
             "outlinewidth": 0,
             "ticks": ""
            },
            "colorscale": [
             [
              0,
              "#0d0887"
             ],
             [
              0.1111111111111111,
              "#46039f"
             ],
             [
              0.2222222222222222,
              "#7201a8"
             ],
             [
              0.3333333333333333,
              "#9c179e"
             ],
             [
              0.4444444444444444,
              "#bd3786"
             ],
             [
              0.5555555555555556,
              "#d8576b"
             ],
             [
              0.6666666666666666,
              "#ed7953"
             ],
             [
              0.7777777777777778,
              "#fb9f3a"
             ],
             [
              0.8888888888888888,
              "#fdca26"
             ],
             [
              1,
              "#f0f921"
             ]
            ],
            "type": "heatmap"
           }
          ],
          "heatmapgl": [
           {
            "colorbar": {
             "outlinewidth": 0,
             "ticks": ""
            },
            "colorscale": [
             [
              0,
              "#0d0887"
             ],
             [
              0.1111111111111111,
              "#46039f"
             ],
             [
              0.2222222222222222,
              "#7201a8"
             ],
             [
              0.3333333333333333,
              "#9c179e"
             ],
             [
              0.4444444444444444,
              "#bd3786"
             ],
             [
              0.5555555555555556,
              "#d8576b"
             ],
             [
              0.6666666666666666,
              "#ed7953"
             ],
             [
              0.7777777777777778,
              "#fb9f3a"
             ],
             [
              0.8888888888888888,
              "#fdca26"
             ],
             [
              1,
              "#f0f921"
             ]
            ],
            "type": "heatmapgl"
           }
          ],
          "histogram": [
           {
            "marker": {
             "pattern": {
              "fillmode": "overlay",
              "size": 10,
              "solidity": 0.2
             }
            },
            "type": "histogram"
           }
          ],
          "histogram2d": [
           {
            "colorbar": {
             "outlinewidth": 0,
             "ticks": ""
            },
            "colorscale": [
             [
              0,
              "#0d0887"
             ],
             [
              0.1111111111111111,
              "#46039f"
             ],
             [
              0.2222222222222222,
              "#7201a8"
             ],
             [
              0.3333333333333333,
              "#9c179e"
             ],
             [
              0.4444444444444444,
              "#bd3786"
             ],
             [
              0.5555555555555556,
              "#d8576b"
             ],
             [
              0.6666666666666666,
              "#ed7953"
             ],
             [
              0.7777777777777778,
              "#fb9f3a"
             ],
             [
              0.8888888888888888,
              "#fdca26"
             ],
             [
              1,
              "#f0f921"
             ]
            ],
            "type": "histogram2d"
           }
          ],
          "histogram2dcontour": [
           {
            "colorbar": {
             "outlinewidth": 0,
             "ticks": ""
            },
            "colorscale": [
             [
              0,
              "#0d0887"
             ],
             [
              0.1111111111111111,
              "#46039f"
             ],
             [
              0.2222222222222222,
              "#7201a8"
             ],
             [
              0.3333333333333333,
              "#9c179e"
             ],
             [
              0.4444444444444444,
              "#bd3786"
             ],
             [
              0.5555555555555556,
              "#d8576b"
             ],
             [
              0.6666666666666666,
              "#ed7953"
             ],
             [
              0.7777777777777778,
              "#fb9f3a"
             ],
             [
              0.8888888888888888,
              "#fdca26"
             ],
             [
              1,
              "#f0f921"
             ]
            ],
            "type": "histogram2dcontour"
           }
          ],
          "mesh3d": [
           {
            "colorbar": {
             "outlinewidth": 0,
             "ticks": ""
            },
            "type": "mesh3d"
           }
          ],
          "parcoords": [
           {
            "line": {
             "colorbar": {
              "outlinewidth": 0,
              "ticks": ""
             }
            },
            "type": "parcoords"
           }
          ],
          "pie": [
           {
            "automargin": true,
            "type": "pie"
           }
          ],
          "scatter": [
           {
            "marker": {
             "colorbar": {
              "outlinewidth": 0,
              "ticks": ""
             }
            },
            "type": "scatter"
           }
          ],
          "scatter3d": [
           {
            "line": {
             "colorbar": {
              "outlinewidth": 0,
              "ticks": ""
             }
            },
            "marker": {
             "colorbar": {
              "outlinewidth": 0,
              "ticks": ""
             }
            },
            "type": "scatter3d"
           }
          ],
          "scattercarpet": [
           {
            "marker": {
             "colorbar": {
              "outlinewidth": 0,
              "ticks": ""
             }
            },
            "type": "scattercarpet"
           }
          ],
          "scattergeo": [
           {
            "marker": {
             "colorbar": {
              "outlinewidth": 0,
              "ticks": ""
             }
            },
            "type": "scattergeo"
           }
          ],
          "scattergl": [
           {
            "marker": {
             "colorbar": {
              "outlinewidth": 0,
              "ticks": ""
             }
            },
            "type": "scattergl"
           }
          ],
          "scattermapbox": [
           {
            "marker": {
             "colorbar": {
              "outlinewidth": 0,
              "ticks": ""
             }
            },
            "type": "scattermapbox"
           }
          ],
          "scatterpolar": [
           {
            "marker": {
             "colorbar": {
              "outlinewidth": 0,
              "ticks": ""
             }
            },
            "type": "scatterpolar"
           }
          ],
          "scatterpolargl": [
           {
            "marker": {
             "colorbar": {
              "outlinewidth": 0,
              "ticks": ""
             }
            },
            "type": "scatterpolargl"
           }
          ],
          "scatterternary": [
           {
            "marker": {
             "colorbar": {
              "outlinewidth": 0,
              "ticks": ""
             }
            },
            "type": "scatterternary"
           }
          ],
          "surface": [
           {
            "colorbar": {
             "outlinewidth": 0,
             "ticks": ""
            },
            "colorscale": [
             [
              0,
              "#0d0887"
             ],
             [
              0.1111111111111111,
              "#46039f"
             ],
             [
              0.2222222222222222,
              "#7201a8"
             ],
             [
              0.3333333333333333,
              "#9c179e"
             ],
             [
              0.4444444444444444,
              "#bd3786"
             ],
             [
              0.5555555555555556,
              "#d8576b"
             ],
             [
              0.6666666666666666,
              "#ed7953"
             ],
             [
              0.7777777777777778,
              "#fb9f3a"
             ],
             [
              0.8888888888888888,
              "#fdca26"
             ],
             [
              1,
              "#f0f921"
             ]
            ],
            "type": "surface"
           }
          ],
          "table": [
           {
            "cells": {
             "fill": {
              "color": "#EBF0F8"
             },
             "line": {
              "color": "white"
             }
            },
            "header": {
             "fill": {
              "color": "#C8D4E3"
             },
             "line": {
              "color": "white"
             }
            },
            "type": "table"
           }
          ]
         },
         "layout": {
          "annotationdefaults": {
           "arrowcolor": "#2a3f5f",
           "arrowhead": 0,
           "arrowwidth": 1
          },
          "autotypenumbers": "strict",
          "coloraxis": {
           "colorbar": {
            "outlinewidth": 0,
            "ticks": ""
           }
          },
          "colorscale": {
           "diverging": [
            [
             0,
             "#8e0152"
            ],
            [
             0.1,
             "#c51b7d"
            ],
            [
             0.2,
             "#de77ae"
            ],
            [
             0.3,
             "#f1b6da"
            ],
            [
             0.4,
             "#fde0ef"
            ],
            [
             0.5,
             "#f7f7f7"
            ],
            [
             0.6,
             "#e6f5d0"
            ],
            [
             0.7,
             "#b8e186"
            ],
            [
             0.8,
             "#7fbc41"
            ],
            [
             0.9,
             "#4d9221"
            ],
            [
             1,
             "#276419"
            ]
           ],
           "sequential": [
            [
             0,
             "#0d0887"
            ],
            [
             0.1111111111111111,
             "#46039f"
            ],
            [
             0.2222222222222222,
             "#7201a8"
            ],
            [
             0.3333333333333333,
             "#9c179e"
            ],
            [
             0.4444444444444444,
             "#bd3786"
            ],
            [
             0.5555555555555556,
             "#d8576b"
            ],
            [
             0.6666666666666666,
             "#ed7953"
            ],
            [
             0.7777777777777778,
             "#fb9f3a"
            ],
            [
             0.8888888888888888,
             "#fdca26"
            ],
            [
             1,
             "#f0f921"
            ]
           ],
           "sequentialminus": [
            [
             0,
             "#0d0887"
            ],
            [
             0.1111111111111111,
             "#46039f"
            ],
            [
             0.2222222222222222,
             "#7201a8"
            ],
            [
             0.3333333333333333,
             "#9c179e"
            ],
            [
             0.4444444444444444,
             "#bd3786"
            ],
            [
             0.5555555555555556,
             "#d8576b"
            ],
            [
             0.6666666666666666,
             "#ed7953"
            ],
            [
             0.7777777777777778,
             "#fb9f3a"
            ],
            [
             0.8888888888888888,
             "#fdca26"
            ],
            [
             1,
             "#f0f921"
            ]
           ]
          },
          "colorway": [
           "#636efa",
           "#EF553B",
           "#00cc96",
           "#ab63fa",
           "#FFA15A",
           "#19d3f3",
           "#FF6692",
           "#B6E880",
           "#FF97FF",
           "#FECB52"
          ],
          "font": {
           "color": "#2a3f5f"
          },
          "geo": {
           "bgcolor": "white",
           "lakecolor": "white",
           "landcolor": "#E5ECF6",
           "showlakes": true,
           "showland": true,
           "subunitcolor": "white"
          },
          "hoverlabel": {
           "align": "left"
          },
          "hovermode": "closest",
          "mapbox": {
           "style": "light"
          },
          "paper_bgcolor": "white",
          "plot_bgcolor": "#E5ECF6",
          "polar": {
           "angularaxis": {
            "gridcolor": "white",
            "linecolor": "white",
            "ticks": ""
           },
           "bgcolor": "#E5ECF6",
           "radialaxis": {
            "gridcolor": "white",
            "linecolor": "white",
            "ticks": ""
           }
          },
          "scene": {
           "xaxis": {
            "backgroundcolor": "#E5ECF6",
            "gridcolor": "white",
            "gridwidth": 2,
            "linecolor": "white",
            "showbackground": true,
            "ticks": "",
            "zerolinecolor": "white"
           },
           "yaxis": {
            "backgroundcolor": "#E5ECF6",
            "gridcolor": "white",
            "gridwidth": 2,
            "linecolor": "white",
            "showbackground": true,
            "ticks": "",
            "zerolinecolor": "white"
           },
           "zaxis": {
            "backgroundcolor": "#E5ECF6",
            "gridcolor": "white",
            "gridwidth": 2,
            "linecolor": "white",
            "showbackground": true,
            "ticks": "",
            "zerolinecolor": "white"
           }
          },
          "shapedefaults": {
           "line": {
            "color": "#2a3f5f"
           }
          },
          "ternary": {
           "aaxis": {
            "gridcolor": "white",
            "linecolor": "white",
            "ticks": ""
           },
           "baxis": {
            "gridcolor": "white",
            "linecolor": "white",
            "ticks": ""
           },
           "bgcolor": "#E5ECF6",
           "caxis": {
            "gridcolor": "white",
            "linecolor": "white",
            "ticks": ""
           }
          },
          "title": {
           "x": 0.05
          },
          "xaxis": {
           "automargin": true,
           "gridcolor": "white",
           "linecolor": "white",
           "ticks": "",
           "title": {
            "standoff": 15
           },
           "zerolinecolor": "white",
           "zerolinewidth": 2
          },
          "yaxis": {
           "automargin": true,
           "gridcolor": "white",
           "linecolor": "white",
           "ticks": "",
           "title": {
            "standoff": 15
           },
           "zerolinecolor": "white",
           "zerolinewidth": 2
          }
         }
        },
        "xaxis": {
         "anchor": "y",
         "domain": [
          0,
          1
         ],
         "title": {
          "text": "Caida"
         }
        },
        "yaxis": {
         "anchor": "x",
         "domain": [
          0,
          1
         ],
         "title": {
          "text": "Relacion liquidado/prestado"
         }
        }
       }
      }
     },
     "metadata": {}
    }
   ],
   "metadata": {}
  },
  {
   "cell_type": "code",
   "execution_count": null,
   "source": [],
   "outputs": [],
   "metadata": {}
  }
 ],
 "metadata": {
  "orig_nbformat": 4,
  "language_info": {
   "name": "python",
   "version": "3.9.6",
   "mimetype": "text/x-python",
   "codemirror_mode": {
    "name": "ipython",
    "version": 3
   },
   "pygments_lexer": "ipython3",
   "nbconvert_exporter": "python",
   "file_extension": ".py"
  },
  "kernelspec": {
   "name": "python3",
   "display_name": "Python 3.9.6 64-bit"
  },
  "interpreter": {
   "hash": "aee8b7b246df8f9039afb4144a1f6fd8d2ca17a180786b69acc140d282b71a49"
  }
 },
 "nbformat": 4,
 "nbformat_minor": 2
}